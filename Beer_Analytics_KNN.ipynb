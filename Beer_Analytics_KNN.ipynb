{
  "nbformat": 4,
  "nbformat_minor": 0,
  "metadata": {
    "colab": {
      "name": "Beer-Analytics-KNN.ipynb",
      "provenance": [],
      "collapsed_sections": []
    },
    "kernelspec": {
      "name": "python3",
      "display_name": "Python 3"
    }
  },
  "cells": [
    {
      "cell_type": "markdown",
      "metadata": {
        "id": "pUv9f0cZa04t"
      },
      "source": [
        "# KNN For Beer Consumption on a weekend or not classification \r\n",
        "\r\n"
      ]
    },
    {
      "cell_type": "markdown",
      "metadata": {
        "id": "y27EvCkoa9l1"
      },
      "source": [
        "## Importing Libraries"
      ]
    },
    {
      "cell_type": "code",
      "metadata": {
        "id": "AA0XdzYFGXK0"
      },
      "source": [
        "import numpy as np\r\n",
        "import pandas as pd\r\n",
        "import matplotlib.pyplot as plt\r\n"
      ],
      "execution_count": 1,
      "outputs": []
    },
    {
      "cell_type": "markdown",
      "metadata": {
        "id": "JtZji86hbAhh"
      },
      "source": [
        "##Importing and Fine tuning the dataset, dataset can be found in my github at https://github.com/joshtrivedi/Beer-Consumption/blob/main/beer_data.csv\r\n"
      ]
    },
    {
      "cell_type": "code",
      "metadata": {
        "colab": {
          "base_uri": "https://localhost:8080/",
          "height": 306
        },
        "id": "29jBA4oXGbrT",
        "outputId": "4c31b052-6280-49f3-9de8-e0a5b644d77c"
      },
      "source": [
        "dataset = pd.read_csv('beer_data.csv', decimal=',')\r\n",
        "dataset.head()"
      ],
      "execution_count": 2,
      "outputs": [
        {
          "output_type": "execute_result",
          "data": {
            "text/html": [
              "<div>\n",
              "<style scoped>\n",
              "    .dataframe tbody tr th:only-of-type {\n",
              "        vertical-align: middle;\n",
              "    }\n",
              "\n",
              "    .dataframe tbody tr th {\n",
              "        vertical-align: top;\n",
              "    }\n",
              "\n",
              "    .dataframe thead th {\n",
              "        text-align: right;\n",
              "    }\n",
              "</style>\n",
              "<table border=\"1\" class=\"dataframe\">\n",
              "  <thead>\n",
              "    <tr style=\"text-align: right;\">\n",
              "      <th></th>\n",
              "      <th>Data</th>\n",
              "      <th>Temperatura Media (C)</th>\n",
              "      <th>Temperatura Minima (C)</th>\n",
              "      <th>Temperatura Maxima (C)</th>\n",
              "      <th>Precipitacao (mm)</th>\n",
              "      <th>Final de Semana</th>\n",
              "      <th>Consumo de cerveja (litros)</th>\n",
              "    </tr>\n",
              "  </thead>\n",
              "  <tbody>\n",
              "    <tr>\n",
              "      <th>0</th>\n",
              "      <td>2015-01-01</td>\n",
              "      <td>27.30</td>\n",
              "      <td>23.9</td>\n",
              "      <td>32.5</td>\n",
              "      <td>0.0</td>\n",
              "      <td>0.0</td>\n",
              "      <td>25.461</td>\n",
              "    </tr>\n",
              "    <tr>\n",
              "      <th>1</th>\n",
              "      <td>2015-01-02</td>\n",
              "      <td>27.02</td>\n",
              "      <td>24.5</td>\n",
              "      <td>33.5</td>\n",
              "      <td>0.0</td>\n",
              "      <td>0.0</td>\n",
              "      <td>28.972</td>\n",
              "    </tr>\n",
              "    <tr>\n",
              "      <th>2</th>\n",
              "      <td>2015-01-03</td>\n",
              "      <td>24.82</td>\n",
              "      <td>22.4</td>\n",
              "      <td>29.9</td>\n",
              "      <td>0.0</td>\n",
              "      <td>1.0</td>\n",
              "      <td>30.814</td>\n",
              "    </tr>\n",
              "    <tr>\n",
              "      <th>3</th>\n",
              "      <td>2015-01-04</td>\n",
              "      <td>23.98</td>\n",
              "      <td>21.5</td>\n",
              "      <td>28.6</td>\n",
              "      <td>1.2</td>\n",
              "      <td>1.0</td>\n",
              "      <td>29.799</td>\n",
              "    </tr>\n",
              "    <tr>\n",
              "      <th>4</th>\n",
              "      <td>2015-01-05</td>\n",
              "      <td>23.82</td>\n",
              "      <td>21.0</td>\n",
              "      <td>28.3</td>\n",
              "      <td>0.0</td>\n",
              "      <td>0.0</td>\n",
              "      <td>28.900</td>\n",
              "    </tr>\n",
              "  </tbody>\n",
              "</table>\n",
              "</div>"
            ],
            "text/plain": [
              "         Data  ...  Consumo de cerveja (litros)\n",
              "0  2015-01-01  ...                       25.461\n",
              "1  2015-01-02  ...                       28.972\n",
              "2  2015-01-03  ...                       30.814\n",
              "3  2015-01-04  ...                       29.799\n",
              "4  2015-01-05  ...                       28.900\n",
              "\n",
              "[5 rows x 7 columns]"
            ]
          },
          "metadata": {
            "tags": []
          },
          "execution_count": 2
        }
      ]
    },
    {
      "cell_type": "code",
      "metadata": {
        "colab": {
          "base_uri": "https://localhost:8080/",
          "height": 297
        },
        "id": "hdcqCMakG37M",
        "outputId": "0da7b388-5fac-4251-f772-a43c2ba84702"
      },
      "source": [
        "dataset.describe()"
      ],
      "execution_count": 3,
      "outputs": [
        {
          "output_type": "execute_result",
          "data": {
            "text/html": [
              "<div>\n",
              "<style scoped>\n",
              "    .dataframe tbody tr th:only-of-type {\n",
              "        vertical-align: middle;\n",
              "    }\n",
              "\n",
              "    .dataframe tbody tr th {\n",
              "        vertical-align: top;\n",
              "    }\n",
              "\n",
              "    .dataframe thead th {\n",
              "        text-align: right;\n",
              "    }\n",
              "</style>\n",
              "<table border=\"1\" class=\"dataframe\">\n",
              "  <thead>\n",
              "    <tr style=\"text-align: right;\">\n",
              "      <th></th>\n",
              "      <th>Temperatura Media (C)</th>\n",
              "      <th>Temperatura Minima (C)</th>\n",
              "      <th>Temperatura Maxima (C)</th>\n",
              "      <th>Precipitacao (mm)</th>\n",
              "      <th>Final de Semana</th>\n",
              "    </tr>\n",
              "  </thead>\n",
              "  <tbody>\n",
              "    <tr>\n",
              "      <th>count</th>\n",
              "      <td>365.000000</td>\n",
              "      <td>365.000000</td>\n",
              "      <td>365.000000</td>\n",
              "      <td>365.000000</td>\n",
              "      <td>365.000000</td>\n",
              "    </tr>\n",
              "    <tr>\n",
              "      <th>mean</th>\n",
              "      <td>21.226356</td>\n",
              "      <td>17.461370</td>\n",
              "      <td>26.611507</td>\n",
              "      <td>5.196712</td>\n",
              "      <td>0.284932</td>\n",
              "    </tr>\n",
              "    <tr>\n",
              "      <th>std</th>\n",
              "      <td>3.180108</td>\n",
              "      <td>2.826185</td>\n",
              "      <td>4.317366</td>\n",
              "      <td>12.417844</td>\n",
              "      <td>0.452001</td>\n",
              "    </tr>\n",
              "    <tr>\n",
              "      <th>min</th>\n",
              "      <td>12.900000</td>\n",
              "      <td>10.600000</td>\n",
              "      <td>14.500000</td>\n",
              "      <td>0.000000</td>\n",
              "      <td>0.000000</td>\n",
              "    </tr>\n",
              "    <tr>\n",
              "      <th>25%</th>\n",
              "      <td>19.020000</td>\n",
              "      <td>15.300000</td>\n",
              "      <td>23.800000</td>\n",
              "      <td>0.000000</td>\n",
              "      <td>0.000000</td>\n",
              "    </tr>\n",
              "    <tr>\n",
              "      <th>50%</th>\n",
              "      <td>21.380000</td>\n",
              "      <td>17.900000</td>\n",
              "      <td>26.900000</td>\n",
              "      <td>0.000000</td>\n",
              "      <td>0.000000</td>\n",
              "    </tr>\n",
              "    <tr>\n",
              "      <th>75%</th>\n",
              "      <td>23.280000</td>\n",
              "      <td>19.600000</td>\n",
              "      <td>29.400000</td>\n",
              "      <td>3.200000</td>\n",
              "      <td>1.000000</td>\n",
              "    </tr>\n",
              "    <tr>\n",
              "      <th>max</th>\n",
              "      <td>28.860000</td>\n",
              "      <td>24.500000</td>\n",
              "      <td>36.500000</td>\n",
              "      <td>94.800000</td>\n",
              "      <td>1.000000</td>\n",
              "    </tr>\n",
              "  </tbody>\n",
              "</table>\n",
              "</div>"
            ],
            "text/plain": [
              "       Temperatura Media (C)  ...  Final de Semana\n",
              "count             365.000000  ...       365.000000\n",
              "mean               21.226356  ...         0.284932\n",
              "std                 3.180108  ...         0.452001\n",
              "min                12.900000  ...         0.000000\n",
              "25%                19.020000  ...         0.000000\n",
              "50%                21.380000  ...         0.000000\n",
              "75%                23.280000  ...         1.000000\n",
              "max                28.860000  ...         1.000000\n",
              "\n",
              "[8 rows x 5 columns]"
            ]
          },
          "metadata": {
            "tags": []
          },
          "execution_count": 3
        }
      ]
    },
    {
      "cell_type": "code",
      "metadata": {
        "colab": {
          "base_uri": "https://localhost:8080/"
        },
        "id": "RSpCZM85G7or",
        "outputId": "6c5874eb-40cc-48a8-ff02-1a8006ac433a"
      },
      "source": [
        "dataset.shape"
      ],
      "execution_count": 4,
      "outputs": [
        {
          "output_type": "execute_result",
          "data": {
            "text/plain": [
              "(941, 7)"
            ]
          },
          "metadata": {
            "tags": []
          },
          "execution_count": 4
        }
      ]
    },
    {
      "cell_type": "code",
      "metadata": {
        "id": "a00JWXWxIR-7"
      },
      "source": [
        "#removing the NaN values from the dataframe\r\n",
        "dataset = dataset.dropna()"
      ],
      "execution_count": 5,
      "outputs": []
    },
    {
      "cell_type": "code",
      "metadata": {
        "colab": {
          "base_uri": "https://localhost:8080/"
        },
        "id": "k6JZXapnIVQz",
        "outputId": "8781da34-1954-4142-b4ab-ab44391b9a54"
      },
      "source": [
        "dataset.shape"
      ],
      "execution_count": 6,
      "outputs": [
        {
          "output_type": "execute_result",
          "data": {
            "text/plain": [
              "(365, 7)"
            ]
          },
          "metadata": {
            "tags": []
          },
          "execution_count": 6
        }
      ]
    },
    {
      "cell_type": "code",
      "metadata": {
        "colab": {
          "base_uri": "https://localhost:8080/",
          "height": 419
        },
        "id": "OTnQaOk3G_vj",
        "outputId": "c834d717-8d65-4ec2-dd84-57da38de11d0"
      },
      "source": [
        "#segregating the dataset into input features and target_variables\r\n",
        "input_features = dataset.iloc[:,1:5]\r\n",
        "input_features"
      ],
      "execution_count": 7,
      "outputs": [
        {
          "output_type": "execute_result",
          "data": {
            "text/html": [
              "<div>\n",
              "<style scoped>\n",
              "    .dataframe tbody tr th:only-of-type {\n",
              "        vertical-align: middle;\n",
              "    }\n",
              "\n",
              "    .dataframe tbody tr th {\n",
              "        vertical-align: top;\n",
              "    }\n",
              "\n",
              "    .dataframe thead th {\n",
              "        text-align: right;\n",
              "    }\n",
              "</style>\n",
              "<table border=\"1\" class=\"dataframe\">\n",
              "  <thead>\n",
              "    <tr style=\"text-align: right;\">\n",
              "      <th></th>\n",
              "      <th>Temperatura Media (C)</th>\n",
              "      <th>Temperatura Minima (C)</th>\n",
              "      <th>Temperatura Maxima (C)</th>\n",
              "      <th>Precipitacao (mm)</th>\n",
              "    </tr>\n",
              "  </thead>\n",
              "  <tbody>\n",
              "    <tr>\n",
              "      <th>0</th>\n",
              "      <td>27.30</td>\n",
              "      <td>23.9</td>\n",
              "      <td>32.5</td>\n",
              "      <td>0.0</td>\n",
              "    </tr>\n",
              "    <tr>\n",
              "      <th>1</th>\n",
              "      <td>27.02</td>\n",
              "      <td>24.5</td>\n",
              "      <td>33.5</td>\n",
              "      <td>0.0</td>\n",
              "    </tr>\n",
              "    <tr>\n",
              "      <th>2</th>\n",
              "      <td>24.82</td>\n",
              "      <td>22.4</td>\n",
              "      <td>29.9</td>\n",
              "      <td>0.0</td>\n",
              "    </tr>\n",
              "    <tr>\n",
              "      <th>3</th>\n",
              "      <td>23.98</td>\n",
              "      <td>21.5</td>\n",
              "      <td>28.6</td>\n",
              "      <td>1.2</td>\n",
              "    </tr>\n",
              "    <tr>\n",
              "      <th>4</th>\n",
              "      <td>23.82</td>\n",
              "      <td>21.0</td>\n",
              "      <td>28.3</td>\n",
              "      <td>0.0</td>\n",
              "    </tr>\n",
              "    <tr>\n",
              "      <th>...</th>\n",
              "      <td>...</td>\n",
              "      <td>...</td>\n",
              "      <td>...</td>\n",
              "      <td>...</td>\n",
              "    </tr>\n",
              "    <tr>\n",
              "      <th>360</th>\n",
              "      <td>24.00</td>\n",
              "      <td>21.1</td>\n",
              "      <td>28.2</td>\n",
              "      <td>13.6</td>\n",
              "    </tr>\n",
              "    <tr>\n",
              "      <th>361</th>\n",
              "      <td>22.64</td>\n",
              "      <td>21.1</td>\n",
              "      <td>26.7</td>\n",
              "      <td>0.0</td>\n",
              "    </tr>\n",
              "    <tr>\n",
              "      <th>362</th>\n",
              "      <td>21.68</td>\n",
              "      <td>20.3</td>\n",
              "      <td>24.1</td>\n",
              "      <td>10.3</td>\n",
              "    </tr>\n",
              "    <tr>\n",
              "      <th>363</th>\n",
              "      <td>21.38</td>\n",
              "      <td>19.3</td>\n",
              "      <td>22.4</td>\n",
              "      <td>6.3</td>\n",
              "    </tr>\n",
              "    <tr>\n",
              "      <th>364</th>\n",
              "      <td>24.76</td>\n",
              "      <td>20.2</td>\n",
              "      <td>29.0</td>\n",
              "      <td>0.0</td>\n",
              "    </tr>\n",
              "  </tbody>\n",
              "</table>\n",
              "<p>365 rows × 4 columns</p>\n",
              "</div>"
            ],
            "text/plain": [
              "     Temperatura Media (C)  ...  Precipitacao (mm)\n",
              "0                    27.30  ...                0.0\n",
              "1                    27.02  ...                0.0\n",
              "2                    24.82  ...                0.0\n",
              "3                    23.98  ...                1.2\n",
              "4                    23.82  ...                0.0\n",
              "..                     ...  ...                ...\n",
              "360                  24.00  ...               13.6\n",
              "361                  22.64  ...                0.0\n",
              "362                  21.68  ...               10.3\n",
              "363                  21.38  ...                6.3\n",
              "364                  24.76  ...                0.0\n",
              "\n",
              "[365 rows x 4 columns]"
            ]
          },
          "metadata": {
            "tags": []
          },
          "execution_count": 7
        }
      ]
    },
    {
      "cell_type": "code",
      "metadata": {
        "colab": {
          "base_uri": "https://localhost:8080/"
        },
        "id": "6Jqmb8rrHL9r",
        "outputId": "1a22079a-b0eb-4ff1-fbe0-cf1a67c98278"
      },
      "source": [
        "target_variable = dataset.iloc[:,-2]\r\n",
        "target_variable"
      ],
      "execution_count": 8,
      "outputs": [
        {
          "output_type": "execute_result",
          "data": {
            "text/plain": [
              "0      0.0\n",
              "1      0.0\n",
              "2      1.0\n",
              "3      1.0\n",
              "4      0.0\n",
              "      ... \n",
              "360    1.0\n",
              "361    0.0\n",
              "362    0.0\n",
              "363    0.0\n",
              "364    0.0\n",
              "Name: Final de Semana, Length: 365, dtype: float64"
            ]
          },
          "metadata": {
            "tags": []
          },
          "execution_count": 8
        }
      ]
    },
    {
      "cell_type": "markdown",
      "metadata": {
        "id": "XsUNsaf7b0UT"
      },
      "source": [
        "As no specific classification data columns are provided, we will take the **final-de-semana** field which is the indication of whether it is the weekend or not "
      ]
    },
    {
      "cell_type": "code",
      "metadata": {
        "id": "NEieAdHwJTc-"
      },
      "source": [
        "isWeekend = dataset.loc[target_variable==1.0]\r\n",
        "isNotWeekend = dataset.loc[target_variable==0.0]"
      ],
      "execution_count": 9,
      "outputs": []
    },
    {
      "cell_type": "markdown",
      "metadata": {
        "id": "IKiYk21hb90f"
      },
      "source": [
        "## Splitting into training and testing dataset using sklearn"
      ]
    },
    {
      "cell_type": "code",
      "metadata": {
        "id": "51WV3_g3KFyz"
      },
      "source": [
        "from sklearn.model_selection import train_test_split"
      ],
      "execution_count": 10,
      "outputs": []
    },
    {
      "cell_type": "code",
      "metadata": {
        "id": "3mQaK6GlKkbS"
      },
      "source": [
        "input_features = np.array(input_features)\r\n",
        "target_variable = np.array(target_variable)"
      ],
      "execution_count": 11,
      "outputs": []
    },
    {
      "cell_type": "code",
      "metadata": {
        "id": "Bx4oBo-DKqbT"
      },
      "source": [
        "X_train,X_test,Y_train,Y_test = train_test_split(input_features,target_variable,test_size=0.25,random_state=50)"
      ],
      "execution_count": 12,
      "outputs": []
    },
    {
      "cell_type": "code",
      "metadata": {
        "colab": {
          "base_uri": "https://localhost:8080/"
        },
        "id": "IPcLDUXOK4yi",
        "outputId": "556d5055-dec9-422a-b9d6-e0f24d4e6cc2"
      },
      "source": [
        "print(X_train.shape)\r\n",
        "print(X_test.shape)\r\n",
        "print(Y_train.shape)\r\n",
        "print(Y_test.shape)"
      ],
      "execution_count": 13,
      "outputs": [
        {
          "output_type": "stream",
          "text": [
            "(273, 4)\n",
            "(92, 4)\n",
            "(273,)\n",
            "(92,)\n"
          ],
          "name": "stdout"
        }
      ]
    },
    {
      "cell_type": "markdown",
      "metadata": {
        "id": "2zq_ReoucCGn"
      },
      "source": [
        "## Applying the KNN Classifier using the sklear library again"
      ]
    },
    {
      "cell_type": "code",
      "metadata": {
        "id": "zcSInerKX7jR"
      },
      "source": [
        "from sklearn.neighbors import KNeighborsClassifier"
      ],
      "execution_count": 14,
      "outputs": []
    },
    {
      "cell_type": "markdown",
      "metadata": {
        "id": "3UD0LvWwax_a"
      },
      "source": [
        "### For K = 3"
      ]
    },
    {
      "cell_type": "code",
      "metadata": {
        "id": "gC-W1cL5X-CB"
      },
      "source": [
        "KNN3 = KNeighborsClassifier(n_neighbors=3)"
      ],
      "execution_count": 15,
      "outputs": []
    },
    {
      "cell_type": "code",
      "metadata": {
        "colab": {
          "base_uri": "https://localhost:8080/"
        },
        "id": "zxaxvhshYI9C",
        "outputId": "8ae21506-7223-4f2f-eab8-7a8b5443bf38"
      },
      "source": [
        "KNN3.fit(X_train,Y_train)"
      ],
      "execution_count": 16,
      "outputs": [
        {
          "output_type": "execute_result",
          "data": {
            "text/plain": [
              "KNeighborsClassifier(algorithm='auto', leaf_size=30, metric='minkowski',\n",
              "                     metric_params=None, n_jobs=None, n_neighbors=3, p=2,\n",
              "                     weights='uniform')"
            ]
          },
          "metadata": {
            "tags": []
          },
          "execution_count": 16
        }
      ]
    },
    {
      "cell_type": "code",
      "metadata": {
        "id": "Rn2MqjjsYqji"
      },
      "source": [
        "Predict3 = KNN3.predict(X_test)"
      ],
      "execution_count": 17,
      "outputs": []
    },
    {
      "cell_type": "code",
      "metadata": {
        "id": "98f6B6laYz6I"
      },
      "source": [
        "from sklearn import metrics"
      ],
      "execution_count": 18,
      "outputs": []
    },
    {
      "cell_type": "code",
      "metadata": {
        "colab": {
          "base_uri": "https://localhost:8080/"
        },
        "id": "r9lYcK95Y22K",
        "outputId": "00593381-72a6-4d4e-c8d9-a4f9a790ef26"
      },
      "source": [
        "Confusion = metrics.confusion_matrix(Y_test,Predict3)\r\n",
        "print(Confusion)\r\n",
        "print(\"Accuracy:\",metrics.accuracy_score(Y_test, Predict3))\r\n",
        "print(\"Precision:\",metrics.precision_score(Y_test, Predict3))\r\n",
        "print(\"Recall:\",metrics.recall_score(Y_test, Predict3))"
      ],
      "execution_count": 19,
      "outputs": [
        {
          "output_type": "stream",
          "text": [
            "[[54 12]\n",
            " [24  2]]\n",
            "Accuracy: 0.6086956521739131\n",
            "Precision: 0.14285714285714285\n",
            "Recall: 0.07692307692307693\n"
          ],
          "name": "stdout"
        }
      ]
    },
    {
      "cell_type": "markdown",
      "metadata": {
        "id": "hhIPEdCOautZ"
      },
      "source": [
        "### For K = 5"
      ]
    },
    {
      "cell_type": "code",
      "metadata": {
        "colab": {
          "base_uri": "https://localhost:8080/"
        },
        "id": "N6rG3jVJZMk5",
        "outputId": "19b52fbf-757e-4361-8828-bef87ef00d72"
      },
      "source": [
        "KNN5 = KNeighborsClassifier(n_neighbors=5)\r\n",
        "KNN5.fit(X_train,Y_train)\r\n",
        "Predict5 = KNN5.predict(X_test)\r\n",
        "Confusion5 = metrics.confusion_matrix(Y_test,Predict5)\r\n",
        "print(Confusion5)\r\n",
        "print(\"Accuracy:\",metrics.accuracy_score(Y_test, Predict5))\r\n",
        "print(\"Precision:\",metrics.precision_score(Y_test, Predict5))\r\n",
        "print(\"Recall:\",metrics.recall_score(Y_test, Predict5))\r\n"
      ],
      "execution_count": 20,
      "outputs": [
        {
          "output_type": "stream",
          "text": [
            "[[59  7]\n",
            " [24  2]]\n",
            "Accuracy: 0.6630434782608695\n",
            "Precision: 0.2222222222222222\n",
            "Recall: 0.07692307692307693\n"
          ],
          "name": "stdout"
        }
      ]
    },
    {
      "cell_type": "markdown",
      "metadata": {
        "id": "y0poeC-Zarjo"
      },
      "source": [
        "### For K = 7"
      ]
    },
    {
      "cell_type": "code",
      "metadata": {
        "colab": {
          "base_uri": "https://localhost:8080/"
        },
        "id": "h84Tx0YSZqIS",
        "outputId": "2a82fbbe-83ef-4b5e-f802-a1866e8642a4"
      },
      "source": [
        "KNN7 = KNeighborsClassifier(n_neighbors=7)\r\n",
        "KNN7.fit(X_train,Y_train)\r\n",
        "Predict7 = KNN7.predict(X_test)\r\n",
        "Confusion7 = metrics.confusion_matrix(Y_test,Predict7)\r\n",
        "print(Confusion7)\r\n",
        "print(\"Accuracy:\",metrics.accuracy_score(Y_test, Predict7))\r\n",
        "print(\"Precision:\",metrics.precision_score(Y_test, Predict7))\r\n",
        "print(\"Recall:\",metrics.recall_score(Y_test, Predict7))"
      ],
      "execution_count": 21,
      "outputs": [
        {
          "output_type": "stream",
          "text": [
            "[[60  6]\n",
            " [25  1]]\n",
            "Accuracy: 0.6630434782608695\n",
            "Precision: 0.14285714285714285\n",
            "Recall: 0.038461538461538464\n"
          ],
          "name": "stdout"
        }
      ]
    },
    {
      "cell_type": "markdown",
      "metadata": {
        "id": "3WfTlKliapxS"
      },
      "source": [
        "### For K = 9"
      ]
    },
    {
      "cell_type": "code",
      "metadata": {
        "colab": {
          "base_uri": "https://localhost:8080/"
        },
        "id": "6Qw9TAhEZ40R",
        "outputId": "7f228e69-385e-440f-aa7d-ec8c25248a17"
      },
      "source": [
        "KNN9 = KNeighborsClassifier(n_neighbors=9)\r\n",
        "KNN9.fit(X_train,Y_train)\r\n",
        "Predict9 = KNN9.predict(X_test)\r\n",
        "Confusion9 = metrics.confusion_matrix(Y_test,Predict9)\r\n",
        "print(Confusion9)\r\n",
        "print(\"Accuracy:\",metrics.accuracy_score(Y_test, Predict9))\r\n",
        "print(\"Precision:\",metrics.precision_score(Y_test, Predict9))\r\n",
        "print(\"Recall:\",metrics.recall_score(Y_test, Predict9))"
      ],
      "execution_count": 22,
      "outputs": [
        {
          "output_type": "stream",
          "text": [
            "[[62  4]\n",
            " [25  1]]\n",
            "Accuracy: 0.6847826086956522\n",
            "Precision: 0.2\n",
            "Recall: 0.038461538461538464\n"
          ],
          "name": "stdout"
        }
      ]
    },
    {
      "cell_type": "markdown",
      "metadata": {
        "id": "P7dZPJyfan6X"
      },
      "source": [
        "### For K = 11"
      ]
    },
    {
      "cell_type": "code",
      "metadata": {
        "colab": {
          "base_uri": "https://localhost:8080/"
        },
        "id": "6MxEMCgoaOO5",
        "outputId": "5cd32b95-3a7b-4c88-e4c0-2a29b626aec7"
      },
      "source": [
        "KNN11 = KNeighborsClassifier(n_neighbors=11)\r\n",
        "KNN11.fit(X_train,Y_train)\r\n",
        "Predict11 = KNN11.predict(X_test)\r\n",
        "Confusion11 = metrics.confusion_matrix(Y_test,Predict11)\r\n",
        "print(Confusion11)\r\n",
        "print(\"Accuracy:\",metrics.accuracy_score(Y_test, Predict11))\r\n",
        "print(\"Precision:\",metrics.precision_score(Y_test, Predict11))\r\n",
        "print(\"Recall:\",metrics.recall_score(Y_test, Predict11))"
      ],
      "execution_count": 23,
      "outputs": [
        {
          "output_type": "stream",
          "text": [
            "[[65  1]\n",
            " [26  0]]\n",
            "Accuracy: 0.7065217391304348\n",
            "Precision: 0.0\n",
            "Recall: 0.0\n"
          ],
          "name": "stdout"
        }
      ]
    },
    {
      "cell_type": "markdown",
      "metadata": {
        "id": "bjVGtbsQabwg"
      },
      "source": [
        "Precision and Recall Parameters have come down to 0 so we will keep the value of K below 11"
      ]
    }
  ]
}